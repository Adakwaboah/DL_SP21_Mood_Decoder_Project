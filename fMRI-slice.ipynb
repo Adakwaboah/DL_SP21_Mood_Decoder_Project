{
 "cells": [
  {
   "cell_type": "code",
   "execution_count": 1,
   "id": "241df0b2",
   "metadata": {},
   "outputs": [],
   "source": [
    "import numpy as np\n",
    "import nibabel as nib\n",
    "import matplotlib.pyplot as plt\n"
   ]
  },
  {
   "cell_type": "code",
   "execution_count": 5,
   "id": "4af6d344",
   "metadata": {},
   "outputs": [
    {
     "name": "stdout",
     "output_type": "stream",
     "text": [
      "['sub-01', 'sub-02', 'sub-03', 'sub-04', 'sub-05', 'sub-06', 'sub-07', 'sub-08', 'sub-09', 'sub-10', 'sub-11', 'sub-12', 'sub-13', 'sub-14', 'sub-15', 'sub-16', 'sub-17', 'sub-18', 'sub-19', 'sub-20', 'sub-21']\n",
      "1 sub-01_task-classicalMusic_bold.nii.gz 930\n",
      "2 sub-01_task-genMusic02_bold.nii.gz 289\n",
      "3 sub-01_task-genMusic03_bold.nii.gz 277\n",
      "4 sub-02_task-classicalMusic_bold.nii.gz 934\n",
      "5 sub-02_task-genMusic01_bold.nii.gz 274\n",
      "6 sub-02_task-genMusic02_bold.nii.gz 276\n",
      "7 sub-02_task-genMusic03_bold.nii.gz 274\n",
      "8 sub-03_task-classicalMusic_bold.nii.gz 933\n",
      "9 sub-03_task-genMusic01_bold.nii.gz 281\n",
      "10 sub-03_task-genMusic02_bold.nii.gz 276\n",
      "11 sub-03_task-genMusic03_bold.nii.gz 279\n",
      "12 sub-04_task-classicalMusic_bold.nii.gz 934\n",
      "13 sub-04_task-genMusic01_bold.nii.gz 276\n",
      "14 sub-04_task-genMusic02_bold.nii.gz 278\n",
      "15 sub-04_task-genMusic03_bold.nii.gz 279\n",
      "16 sub-05_task-classicalMusic_bold.nii.gz 934\n",
      "17 sub-05_task-genMusic01_bold.nii.gz 278\n",
      "18 sub-05_task-genMusic02_bold.nii.gz 276\n",
      "19 sub-05_task-genMusic03_bold.nii.gz 279\n",
      "20 sub-06_task-classicalMusic_bold.nii.gz 934\n",
      "21 sub-06_task-genMusic01_bold.nii.gz 281\n",
      "22 sub-06_task-genMusic02_bold.nii.gz 278\n",
      "23 sub-06_task-genMusic03_bold.nii.gz 278\n",
      "24 sub-07_task-classicalMusic_bold.nii.gz 934\n",
      "25 sub-07_task-genMusic01_bold.nii.gz 277\n",
      "26 sub-07_task-genMusic02_bold.nii.gz 274\n",
      "27 sub-07_task-genMusic03_bold.nii.gz 275\n",
      "28 sub-08_task-classicalMusic_bold.nii.gz 934\n",
      "29 sub-08_task-genMusic01_bold.nii.gz 276\n",
      "30 sub-08_task-genMusic02_bold.nii.gz 276\n",
      "31 sub-08_task-genMusic03_bold.nii.gz 281\n",
      "32 sub-09_task-classicalMusic_bold.nii.gz 934\n",
      "33 sub-09_task-genMusic01_bold.nii.gz 275\n",
      "34 sub-09_task-genMusic02_bold.nii.gz 278\n",
      "35 sub-09_task-genMusic03_bold.nii.gz 276\n",
      "36 sub-10_task-classicalMusic_bold.nii.gz 934\n",
      "37 sub-10_task-genMusic01_bold.nii.gz 278\n",
      "38 sub-10_task-genMusic02_bold.nii.gz 330\n",
      "39 sub-10_task-genMusic03_bold.nii.gz 280\n",
      "40 sub-11_task-classicalMusic_bold.nii.gz 934\n",
      "41 sub-11_task-genMusic01_bold.nii.gz 276\n",
      "42 sub-11_task-genMusic02_bold.nii.gz 277\n",
      "43 sub-11_task-genMusic03_bold.nii.gz 277\n",
      "44 sub-12_task-classicalMusic_bold.nii.gz 934\n",
      "45 sub-12_task-genMusic01_bold.nii.gz 277\n",
      "46 sub-12_task-genMusic02_bold.nii.gz 278\n",
      "47 sub-12_task-genMusic03_bold.nii.gz 279\n",
      "48 sub-13_task-classicalMusic_bold.nii.gz 934\n",
      "49 sub-13_task-genMusic01_bold.nii.gz 275\n",
      "50 sub-13_task-genMusic02_bold.nii.gz 275\n",
      "51 sub-13_task-genMusic03_bold.nii.gz 274\n",
      "52 sub-14_task-classicalMusic_bold.nii.gz 934\n",
      "53 sub-14_task-genMusic01_bold.nii.gz 274\n",
      "54 sub-14_task-genMusic02_bold.nii.gz 278\n",
      "55 sub-14_task-genMusic03_bold.nii.gz 275\n",
      "56 sub-15_task-classicalMusic_bold.nii.gz 934\n",
      "57 sub-15_task-genMusic01_bold.nii.gz 278\n",
      "58 sub-15_task-genMusic02_bold.nii.gz 274\n",
      "59 sub-15_task-genMusic03_bold.nii.gz 277\n",
      "60 sub-16_task-classicalMusic_bold.nii.gz 934\n",
      "61 sub-16_task-genMusic01_bold.nii.gz 276\n",
      "62 sub-16_task-genMusic02_bold.nii.gz 278\n",
      "63 sub-16_task-genMusic03_bold.nii.gz 279\n",
      "64 sub-17_task-classicalMusic_bold.nii.gz 934\n",
      "65 sub-17_task-genMusic01_bold.nii.gz 277\n",
      "66 sub-17_task-genMusic02_bold.nii.gz 275\n",
      "67 sub-17_task-genMusic03_bold.nii.gz 278\n",
      "68 sub-18_task-classicalMusic_bold.nii.gz 935\n",
      "69 sub-18_task-genMusic01_bold.nii.gz 275\n",
      "70 sub-18_task-genMusic02_bold.nii.gz 278\n",
      "71 sub-18_task-genMusic03_bold.nii.gz 276\n",
      "72 sub-19_task-classicalMusic_bold.nii.gz 934\n",
      "73 sub-19_task-genMusic01_bold.nii.gz 277\n",
      "74 sub-19_task-genMusic02_bold.nii.gz 277\n",
      "75 sub-19_task-genMusic03_bold.nii.gz 276\n",
      "76 sub-20_task-classicalMusic_bold.nii.gz 935\n",
      "77 sub-20_task-genMusic01_bold.nii.gz 279\n",
      "78 sub-20_task-genMusic02_bold.nii.gz 276\n",
      "79 sub-20_task-genMusic03_bold.nii.gz 278\n",
      "80 sub-21_task-classicalMusic_bold.nii.gz 934\n",
      "81 sub-21_task-genMusic01_bold.nii.gz 276\n",
      "82 sub-21_task-genMusic02_bold.nii.gz 278\n",
      "83 sub-21_task-genMusic03_bold.nii.gz 274\n"
     ]
    }
   ],
   "source": [
    "import os\n",
    "import pandas as pd\n",
    "# Get parent directory to data\n",
    "pdir = 'C:/Users/tdkev/OneDrive - Johns Hopkins/Deep learning SP21 Project/ds002725-download/'\n",
    "\n",
    "# Labels directory\n",
    "# ldir = 'Label_Process/label Data/'\n",
    "ldir = 'label Data/'\n",
    "\n",
    "# Save directories\n",
    "# sdir = 'C:/Users/tdkev/OneDrive - Johns Hopkins/Deep learning SP21 Project/fMRI-labeled/' # Old label directory\n",
    "sdir = 'C:/Users/tdkev/OneDrive - Johns Hopkins/Deep learning SP21 Project/fMRI-labeled_updated/'\n",
    "sdir1 = sdir + '1/' # Class 1\n",
    "sdir2 = sdir + '2/' # Class 2\n",
    "sdir3 = sdir + '3/' # Class 3\n",
    "sdir4 = sdir + '4/' # Class 4\n",
    "# Make save folders\n",
    "for s in [sdir1,sdir2,sdir3,sdir4]:\n",
    "    if not os.path.exists(s):\n",
    "        os.makedirs(s)\n",
    "        print(s)\n",
    "\n",
    "pdir_list = []\n",
    "for p in os.listdir(pdir):\n",
    "    if 'sub' in p:\n",
    "        pdir_list.append(p)\n",
    "print(pdir_list)\n",
    "\n",
    "count = 0\n",
    "\n",
    "label_data_df = pd.DataFrame(columns=[\"img_name\",\"label\"])\n",
    "\n",
    "for p in pdir_list:\n",
    "    # Get each fmri image from each subject\n",
    "    dt = pdir+p+'/func/'\n",
    "    nimg = []\n",
    "    for ni in os.listdir(dt):\n",
    "        # sub-01_task-genMusic01_bold.nii.gz is corrupted\n",
    "        if 'sub-01_task-genMusic01_bold.nii.gz' in ni or 'washout' in ni:\n",
    "            continue\n",
    "        elif 'nii.gz' in ni:\n",
    "            nimg.append(dt+ni)\n",
    "            \n",
    "    # Load an image\n",
    "    for s in nimg:\n",
    "        sub_img = nib.load(s)\n",
    "        sub_img_data = sub_img.get_fdata()\n",
    "        \n",
    "        count += 1\n",
    "        num_slices = sub_img.shape[-1]\n",
    "#         print(sub_img.shape)\n",
    "        print(count,s.split('/')[-1],num_slices)\n",
    "#         print(np.min(sub_img_data[:,:,16,0]))\n",
    "#         print(np.max(sub_img_data[:,:,16,0]))\n",
    "        \n",
    "        # Load corresponding label file\n",
    "        lblfile = ldir+s.split('/')[-1].split('bold')[0]+'eeg.edf.txt'\n",
    "        lbl = pd.read_csv(lblfile, sep=\" \", header=None)\n",
    "        lbl = zip(lbl[3],lbl[6])\n",
    "        \n",
    "        # Convert slices to time scale\n",
    "        slices_time = np.arange(0,num_slices*2,2)\n",
    "\n",
    "        for l in lbl:\n",
    "#             print(l[0]) # l[0] is the time, l[1] is the value\n",
    "            idx_list = np.argwhere(slices_time>=l[0]).tolist() # Get index that matches with time\n",
    "            if idx_list:\n",
    "                idx = idx_list[0][0]\n",
    "            else:\n",
    "                idx = num_slices-1\n",
    "#             print(idx)\n",
    "            # Where to save slice\n",
    "            class_img_name = 'slice_'+str(idx)+'_'+s.split('/')[-1]\n",
    "            save_name = sdir + str(int(l[1])) + '/' + class_img_name\n",
    "            if os.path.isfile(sdir1+class_img_name) or os.path.isfile(sdir2+class_img_name) or os.path.isfile(sdir3+class_img_name) or os.path.isfile(sdir4+class_img_name):\n",
    "#                 print(save_name,'already saved')\n",
    "                continue\n",
    "            else:\n",
    "#                 print('Saving:',save_name)\n",
    "                slice_img_np = sub_img_data[:,:,:,idx]\n",
    "#                 print(slice_img_np.shape)\n",
    "                img_affine = sub_img.affine\n",
    "                nft_img = nib.Nifti1Image(slice_img_np, img_affine)\n",
    "                nib.save(nft_img,save_name)\n",
    "                label_data_df = label_data_df.append({'img_name':class_img_name,'label':int(l[1])},ignore_index=True)\n",
    "#             break    \n",
    "            \n",
    "#         plt.figure()\n",
    "#         plt.imshow(sub_img_data[:,:,16,0])\n",
    "#         plt.colorbar()\n",
    "#         plt.set_cmap('gray')\n",
    "#         plt.plot()\n",
    "#         break\n",
    "#     break\n",
    "label_data_df.to_csv(sdir+'class_label_image.csv',index=False,header=True)\n",
    "# Classical music played for different durations:\n",
    "    # Rachmanioff's prelude - 127 (s)\n",
    "    # Chopin's etude - 150 (s)\n",
    "    # Mendelssohn's Variations sérieuses - 170 (s)\n",
    "    # Beethoven's sonata - 158(s)\n",
    "# Totals 605 (s) * 3 trial_types = ~1815 seconds + ~60 (fixation cross)\n",
    "    # With MRI at 2 second TR -> Should provide around ~937 images\n",
    "    # but, there are additional delays which increases the number\n",
    "\n",
    "# Generated music played at 40 second intervals\n",
    "    # 3 runs of 10 minutes each, 12 trials\n",
    "    # 40 (s) * 12 trials = 540 seconds - > ~270 MRI images"
   ]
  },
  {
   "cell_type": "code",
   "execution_count": 8,
   "id": "ea2ac850",
   "metadata": {},
   "outputs": [
    {
     "name": "stdout",
     "output_type": "stream",
     "text": [
      "total images: 11107\n"
     ]
    }
   ],
   "source": [
    "label_data_df = pd.DataFrame(columns=[\"img_name\",\"label\"])\n",
    "count = 0\n",
    "for s in [sdir1,sdir2,sdir3,sdir4]:\n",
    "    listdir = os.listdir(s)\n",
    "    for class_img_name in listdir:\n",
    "        label_data_df = label_data_df.append({'img_name':class_img_name,'label':int(s[-2])},ignore_index=True)\n",
    "        count += 1\n",
    "print('total images:',count)\n",
    "label_data_df.to_csv(sdir+'class_label_image.csv',index=False,header=True)"
   ]
  },
  {
   "cell_type": "code",
   "execution_count": 56,
   "id": "ee2acd39",
   "metadata": {},
   "outputs": [
    {
     "data": {
      "text/plain": [
       "array([], shape=(0, 1), dtype=int64)"
      ]
     },
     "execution_count": 56,
     "metadata": {},
     "output_type": "execute_result"
    }
   ],
   "source": [
    "np.argwhere(slices_time>=l[0])"
   ]
  },
  {
   "cell_type": "code",
   "execution_count": 5,
   "id": "0f8954a9",
   "metadata": {},
   "outputs": [
    {
     "name": "stdout",
     "output_type": "stream",
     "text": [
      "(64, 64, 37)\n"
     ]
    },
    {
     "data": {
      "text/plain": [
       "[]"
      ]
     },
     "execution_count": 5,
     "metadata": {},
     "output_type": "execute_result"
    },
    {
     "data": {
      "image/png": "[encoded data removed]",
      "text/plain": [
       "<Figure size 432x288 with 2 Axes>"
      ]
     },
     "metadata": {
      "needs_background": "light"
     },
     "output_type": "display_data"
    }
   ],
   "source": [
    "s = 'C:/Users/tdkev/OneDrive - Johns Hopkins/Deep learning SP21 Project/fMRI-labeled/4/slice_182_sub-01_task-classicalMusic_bold.nii.gz'\n",
    "s = 'C:/Users/tdkev/OneDrive - Johns Hopkins/Deep learning SP21 Project/fMRI-labeled_updated/3/slice_7_sub-21_task-genMusic03_bold.nii.gz'\n",
    "sub_img = nib.load(s)\n",
    "sub_img_data = sub_img.get_fdata()\n",
    "print(sub_img.shape)\n",
    "plt.figure()\n",
    "plt.imshow(sub_img_data[:,:,16])\n",
    "plt.colorbar()\n",
    "plt.set_cmap('gray')\n",
    "plt.plot()"
   ]
  },
  {
   "cell_type": "code",
   "execution_count": null,
   "id": "0f12e47f",
   "metadata": {},
   "outputs": [],
   "source": []
  },
  {
   "cell_type": "code",
   "execution_count": null,
   "id": "54e4e6e0",
   "metadata": {},
   "outputs": [],
   "source": []
  },
  {
   "cell_type": "code",
   "execution_count": null,
   "id": "c15727f3",
   "metadata": {},
   "outputs": [],
   "source": []
  },
  {
   "cell_type": "code",
   "execution_count": null,
   "id": "ddeb70a7",
   "metadata": {},
   "outputs": [],
   "source": []
  },
  {
   "cell_type": "code",
   "execution_count": null,
   "id": "a354a6c0",
   "metadata": {},
   "outputs": [],
   "source": []
  }
 ],
 "metadata": {
  "kernelspec": {
   "display_name": "deep-learning",
   "language": "python",
   "name": "deep-learning"
  },
  "language_info": {
   "codemirror_mode": {
    "name": "ipython",
    "version": 3
   },
   "file_extension": ".py",
   "mimetype": "text/x-python",
   "name": "python",
   "nbconvert_exporter": "python",
   "pygments_lexer": "ipython3",
   "version": "3.9.2"
  }
 },
 "nbformat": 4,
 "nbformat_minor": 5
}
