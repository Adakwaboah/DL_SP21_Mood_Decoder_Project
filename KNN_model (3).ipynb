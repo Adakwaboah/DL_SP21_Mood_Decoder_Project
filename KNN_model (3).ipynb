{
  "nbformat": 4,
  "nbformat_minor": 0,
  "metadata": {
    "colab": {
      "name": "KNN_model.ipynb",
      "provenance": [],
      "collapsed_sections": [],
      "machine_shape": "hm"
    },
    "kernelspec": {
      "name": "python3",
      "display_name": "Python 3"
    },
    "language_info": {
      "name": "python"
    },
    "accelerator": "TPU"
  },
  "cells": [
    {
      "cell_type": "code",
      "metadata": {
        "colab": {
          "base_uri": "https://localhost:8080/"
        },
        "id": "ttwJQTczP5xO",
        "outputId": "7c281bc2-b2df-404d-e638-a5792e86a288"
      },
      "source": [
        "from google.colab import drive\n",
        "drive.mount('/content/drive')"
      ],
      "execution_count": null,
      "outputs": [
        {
          "output_type": "stream",
          "text": [
            "Drive already mounted at /content/drive; to attempt to forcibly remount, call drive.mount(\"/content/drive\", force_remount=True).\n"
          ],
          "name": "stdout"
        }
      ]
    },
    {
      "cell_type": "code",
      "metadata": {
        "colab": {
          "base_uri": "https://localhost:8080/"
        },
        "id": "t_AyvmX5P8sc",
        "outputId": "56250bb0-8363-4e6b-ecd8-653171020bd2"
      },
      "source": [
        "cd /content/drive/MyDrive/DL_Final_Project/Data_Balanced_6000"
      ],
      "execution_count": null,
      "outputs": [
        {
          "output_type": "stream",
          "text": [
            "/content/drive/MyDrive/DL_Final_Project/Data_Balanced_6000\n"
          ],
          "name": "stdout"
        }
      ]
    },
    {
      "cell_type": "code",
      "metadata": {
        "id": "FQ72xZLLPm3B"
      },
      "source": [
        "import pickle\n",
        "import nibabel as nib\n",
        "import matplotlib.pyplot as plt\n",
        "import numpy as np\n",
        "import matplotlib.pyplot as plt\n",
        "import os\n",
        "import cv2\n",
        "import pickle\n",
        "import matplotlib.pyplot as plt\n",
        "from keras.utils import to_categorical\n",
        "from sklearn.model_selection import train_test_split\n",
        "from sklearn.datasets import load_iris\n",
        "from sklearn.model_selection  import cross_val_score\n",
        "import matplotlib.pyplot as plt\n",
        "from sklearn.neighbors import KNeighborsClassifier\n",
        "import matplotlib.pyplot as plt\n",
        "from numpy import *\n",
        "from matplotlib.colors import ListedColormap"
      ],
      "execution_count": null,
      "outputs": []
    },
    {
      "cell_type": "code",
      "metadata": {
        "id": "aUBIYNwiPyjq"
      },
      "source": [
        "from sklearn import neighbors, datasets\n",
        "X = pickle.load(open(\"X_rus.pickle\", \"rb\"))\n",
        "y = pickle.load(open(\"y_rus.pickle\", \"rb\"))\n",
        "y = to_categorical(y)\n",
        "\n",
        "X_train, X_test, y_train, y_test = train_test_split( X, y, test_size=0.20, random_state=42)"
      ],
      "execution_count": null,
      "outputs": []
    },
    {
      "cell_type": "code",
      "metadata": {
        "id": "8_J5mdNZIZ1N"
      },
      "source": [
        "X_train = np.array(X_train).reshape(4800 ,-1)\n",
        "X_test = np.array(X_test).reshape(1200,-1)"
      ],
      "execution_count": null,
      "outputs": []
    },
    {
      "cell_type": "code",
      "metadata": {
        "id": "S2nF8qiQF8ek"
      },
      "source": [
        "from sklearn import neighbors  \n",
        "KNN_model = KNeighborsClassifier(n_neighbors=5)  \n",
        "KNN_model = KNN_model.fit(X_train,y_train)\n",
        "score5 = KNN_model.score(X_test,y_test)                        "
      ],
      "execution_count": null,
      "outputs": []
    },
    {
      "cell_type": "code",
      "metadata": {
        "colab": {
          "base_uri": "https://localhost:8080/"
        },
        "id": "MpOLzM8sNrYk",
        "outputId": "e0190079-3af5-4402-c80e-17db81035199"
      },
      "source": [
        "print(\"The accuracy of KNN classifier 5:\",score5)"
      ],
      "execution_count": null,
      "outputs": [
        {
          "output_type": "stream",
          "text": [
            "The accuracy of KNN classifier 5: 0.5925\n"
          ],
          "name": "stdout"
        }
      ]
    },
    {
      "cell_type": "code",
      "metadata": {
        "id": "QOitl3DksmE8"
      },
      "source": [
        "from sklearn import neighbors  \n",
        "KNN_model = KNeighborsClassifier(n_neighbors=3)  \n",
        "KNN_model = KNN_model.fit(X_train,y_train)\n",
        "score3 = KNN_model.score(X_test,y_test)  "
      ],
      "execution_count": null,
      "outputs": []
    },
    {
      "cell_type": "code",
      "metadata": {
        "colab": {
          "base_uri": "https://localhost:8080/"
        },
        "id": "WnFC9rSysnmV",
        "outputId": "7b48b1b4-7494-417d-ec14-47deac1117a2"
      },
      "source": [
        "print(\"The accuracy of KNN classifier 3:\",score3)"
      ],
      "execution_count": null,
      "outputs": [
        {
          "output_type": "stream",
          "text": [
            "The accuracy of KNN classifier 3: 0.6258333333333334\n"
          ],
          "name": "stdout"
        }
      ]
    },
    {
      "cell_type": "code",
      "metadata": {
        "id": "nXr7-NzXsp7k"
      },
      "source": [
        "from sklearn import neighbors  \n",
        "KNN_model = KNeighborsClassifier(n_neighbors=11)  \n",
        "KNN_model = KNN_model.fit(X_train,y_train)\n",
        "score11 = KNN_model.score(X_test,y_test)"
      ],
      "execution_count": null,
      "outputs": []
    },
    {
      "cell_type": "code",
      "metadata": {
        "colab": {
          "base_uri": "https://localhost:8080/"
        },
        "id": "jG_QxjJisrY9",
        "outputId": "822438bb-1bc9-4cb1-f674-76a7cbee7626"
      },
      "source": [
        "print(\"The accuracy of KNN classifier 11:\",score11)"
      ],
      "execution_count": null,
      "outputs": [
        {
          "output_type": "stream",
          "text": [
            "The accuracy of KNN classifier 11: 0.5066666666666667\n"
          ],
          "name": "stdout"
        }
      ]
    },
    {
      "cell_type": "code",
      "metadata": {
        "colab": {
          "base_uri": "https://localhost:8080/"
        },
        "id": "oUKiHepLtXS9",
        "outputId": "d07d7785-1e35-4be4-90d1-707fe21aca0d"
      },
      "source": [
        "from sklearn import neighbors  \n",
        "KNN_model = KNeighborsClassifier(n_neighbors=11,metric = 'manhattan')  \n",
        "KNN_model = KNN_model.fit(X_train,y_train)\n",
        "score111 = KNN_model.score(X_test,y_test)\n",
        "print(\"The accuracy of KNN classifier 11, norm = 1:\",score111)"
      ],
      "execution_count": null,
      "outputs": [
        {
          "output_type": "stream",
          "text": [
            "The accuracy of KNN classifier 11, norm = 1: 0.5166666666666667\n"
          ],
          "name": "stdout"
        }
      ]
    },
    {
      "cell_type": "code",
      "metadata": {
        "colab": {
          "base_uri": "https://localhost:8080/"
        },
        "id": "TyXIAHSGtW-N",
        "outputId": "42023a7d-ac48-4ba0-b352-447dee61dab6"
      },
      "source": [
        "from sklearn import neighbors  \n",
        "KNN_model = KNeighborsClassifier(n_neighbors=3, metric = 'manhattan')  \n",
        "KNN_model = KNN_model.fit(X_train,y_train)\n",
        "score33 = KNN_model.score(X_test,y_test)\n",
        "print(\"The accuracy of KNN classifier 3, norm = 1:\",score33)"
      ],
      "execution_count": null,
      "outputs": [
        {
          "output_type": "stream",
          "text": [
            "The accuracy of KNN classifier 3, norm = 1: 0.6275\n"
          ],
          "name": "stdout"
        }
      ]
    },
    {
      "cell_type": "code",
      "metadata": {
        "id": "8aMG_SG4svwk"
      },
      "source": [
        "from sklearn import neighbors  \n",
        "KNN_model = KNeighborsClassifier(n_neighbors=5, metric = 'manhattan')  \n",
        "KNN_model = KNN_model.fit(X_train,y_train)\n",
        "score55 = KNN_model.score(X_test,y_test)"
      ],
      "execution_count": null,
      "outputs": []
    },
    {
      "cell_type": "code",
      "metadata": {
        "colab": {
          "base_uri": "https://localhost:8080/"
        },
        "id": "CO2i3tUlsvBF",
        "outputId": "1b31be61-16aa-45a9-dc03-5995f12e3b53"
      },
      "source": [
        "print(\"The accuracy of KNN classifier 5, norm =1:\",score55)"
      ],
      "execution_count": null,
      "outputs": [
        {
          "output_type": "stream",
          "text": [
            "The accuracy of KNN classifier 5, norm =1: 0.6016666666666667\n"
          ],
          "name": "stdout"
        }
      ]
    },
    {
      "cell_type": "code",
      "metadata": {
        "colab": {
          "base_uri": "https://localhost:8080/",
          "height": 295
        },
        "id": "0apdnhK5CVhz",
        "outputId": "d09e364d-88b1-441f-bae2-25b4693dab80"
      },
      "source": [
        "a=plt.plot([3, 5, 11], [score3, score5, score11], 'ro--',label='norm2')\n",
        "b=plt.plot([3, 5, 11],[score33, score55, score111],'bo--',label='norm1')\n",
        "plt.legend()\n",
        "plt.axis([2,12,0.4,0.7])\n",
        "plt.xlabel('Number of K')\n",
        "plt.ylabel('Accuracy')\n",
        "plt.title('Numbers of K vs Numbers of Norm')\n",
        "plt.show()"
      ],
      "execution_count": null,
      "outputs": [
        {
          "output_type": "display_data",
          "data": {
            "image/png": "[encoded data removed]",
            "text/plain": [
              "<Figure size 432x288 with 1 Axes>"
            ]
          },
          "metadata": {
            "tags": [],
            "needs_background": "light"
          }
        }
      ]
    }
  ]
}